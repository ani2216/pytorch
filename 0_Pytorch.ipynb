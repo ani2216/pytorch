{
  "nbformat": 4,
  "nbformat_minor": 0,
  "metadata": {
    "colab": {
      "provenance": [],
      "gpuType": "T4"
    },
    "kernelspec": {
      "name": "python3",
      "display_name": "Python 3"
    },
    "language_info": {
      "name": "python"
    },
    "accelerator": "GPU"
  },
  "cells": [
    {
      "cell_type": "markdown",
      "source": [
        "##Fundamentals of Pytorch"
      ],
      "metadata": {
        "id": "xUhiLnsGo4du"
      }
    },
    {
      "cell_type": "markdown",
      "source": [
        "**Run over the google colab GPU**"
      ],
      "metadata": {
        "id": "a-BjnIuu8Qza"
      }
    },
    {
      "cell_type": "code",
      "source": [
        "!nvidia-smi"
      ],
      "metadata": {
        "colab": {
          "base_uri": "https://localhost:8080/"
        },
        "id": "rhFzgbkvoUUW",
        "outputId": "45ddb108-6884-48a9-c099-d34ea8f07871"
      },
      "execution_count": null,
      "outputs": [
        {
          "output_type": "stream",
          "name": "stdout",
          "text": [
            "/bin/bash: line 1: nvidia-smi: command not found\n"
          ]
        }
      ]
    },
    {
      "cell_type": "markdown",
      "source": [
        "**Importing the libraries**"
      ],
      "metadata": {
        "id": "K_e0O32t8WLi"
      }
    },
    {
      "cell_type": "code",
      "source": [
        "import torch\n",
        "import numpy as np\n",
        "import pandas as pd\n",
        "import matplotlib.pyplot as plt\n",
        "print(torch.__version__)"
      ],
      "metadata": {
        "colab": {
          "base_uri": "https://localhost:8080/"
        },
        "id": "5u_c3ifEofKp",
        "outputId": "9d157b3a-46ad-4dda-edaa-fa76cf624581"
      },
      "execution_count": null,
      "outputs": [
        {
          "output_type": "stream",
          "name": "stdout",
          "text": [
            "2.6.0+cu124\n"
          ]
        }
      ]
    },
    {
      "cell_type": "markdown",
      "source": [
        "**Scaler, Matrix , Tensor Formation**"
      ],
      "metadata": {
        "id": "2Aumcv6I7WYw"
      }
    },
    {
      "cell_type": "code",
      "source": [
        "one_d = torch.tensor(1)\n",
        "one_d"
      ],
      "metadata": {
        "colab": {
          "base_uri": "https://localhost:8080/"
        },
        "id": "8hA2KEjEpFMj",
        "outputId": "ab98782f-81c9-41b4-b6b8-c3f2422be560"
      },
      "execution_count": null,
      "outputs": [
        {
          "output_type": "execute_result",
          "data": {
            "text/plain": [
              "tensor(1)"
            ]
          },
          "metadata": {},
          "execution_count": 2
        }
      ]
    },
    {
      "cell_type": "code",
      "source": [
        "one_d.ndim"
      ],
      "metadata": {
        "colab": {
          "base_uri": "https://localhost:8080/"
        },
        "id": "QnPeQVwd5elw",
        "outputId": "52674f50-71fa-4e47-e6ad-df15601c0bff"
      },
      "execution_count": null,
      "outputs": [
        {
          "output_type": "execute_result",
          "data": {
            "text/plain": [
              "0"
            ]
          },
          "metadata": {},
          "execution_count": 3
        }
      ]
    },
    {
      "cell_type": "code",
      "source": [
        "two_d = torch.tensor([[1,2,3],\n",
        "                     [4,5,6]])"
      ],
      "metadata": {
        "id": "rNxwUs8oo-tg"
      },
      "execution_count": null,
      "outputs": []
    },
    {
      "cell_type": "code",
      "source": [
        "two_d"
      ],
      "metadata": {
        "colab": {
          "base_uri": "https://localhost:8080/"
        },
        "id": "Ziy-PFOz5rbV",
        "outputId": "43a73928-9602-4aae-d6a4-220ae9054138"
      },
      "execution_count": null,
      "outputs": [
        {
          "output_type": "execute_result",
          "data": {
            "text/plain": [
              "tensor([[1, 2, 3],\n",
              "        [4, 5, 6]])"
            ]
          },
          "metadata": {},
          "execution_count": 5
        }
      ]
    },
    {
      "cell_type": "code",
      "source": [
        "two_d.ndim"
      ],
      "metadata": {
        "colab": {
          "base_uri": "https://localhost:8080/"
        },
        "id": "D-MW1B8N5v9C",
        "outputId": "e3af5c38-7c32-475d-e92a-fadd2f3576f3"
      },
      "execution_count": null,
      "outputs": [
        {
          "output_type": "execute_result",
          "data": {
            "text/plain": [
              "2"
            ]
          },
          "metadata": {},
          "execution_count": 6
        }
      ]
    },
    {
      "cell_type": "code",
      "source": [
        "two_d.shape"
      ],
      "metadata": {
        "colab": {
          "base_uri": "https://localhost:8080/"
        },
        "id": "D2Iha4zy5x-K",
        "outputId": "89f50945-74f5-46fa-877f-2a4dc16934b5"
      },
      "execution_count": null,
      "outputs": [
        {
          "output_type": "execute_result",
          "data": {
            "text/plain": [
              "torch.Size([2, 3])"
            ]
          },
          "metadata": {},
          "execution_count": 8
        }
      ]
    },
    {
      "cell_type": "code",
      "source": [
        "three_d = torch.tensor([[[1,2,3],\n",
        "                         [4,5,6],\n",
        "                         [7,8,9]],\n",
        "                        [[11,12,13],\n",
        "                         [14,15,15],\n",
        "                         [17,18,19]]])"
      ],
      "metadata": {
        "id": "AclOnmvI6GnY"
      },
      "execution_count": null,
      "outputs": []
    },
    {
      "cell_type": "code",
      "source": [
        "three_d.shape"
      ],
      "metadata": {
        "colab": {
          "base_uri": "https://localhost:8080/"
        },
        "id": "BOX7Nr8D6Pca",
        "outputId": "86206d69-f44d-44bd-e1b6-916e02740f26"
      },
      "execution_count": null,
      "outputs": [
        {
          "output_type": "execute_result",
          "data": {
            "text/plain": [
              "torch.Size([2, 3, 3])"
            ]
          },
          "metadata": {},
          "execution_count": 8
        }
      ]
    },
    {
      "cell_type": "markdown",
      "source": [
        "**Random Matrix Formation**"
      ],
      "metadata": {
        "id": "izRxrRU57dTb"
      }
    },
    {
      "cell_type": "code",
      "source": [
        "rand_matrix = torch.rand(size=(4,4))\n",
        "rand_matrix"
      ],
      "metadata": {
        "colab": {
          "base_uri": "https://localhost:8080/"
        },
        "id": "6cP8Ye_C6RQK",
        "outputId": "dd7d9a80-8389-4b5a-92bb-6b8c27706b3c"
      },
      "execution_count": null,
      "outputs": [
        {
          "output_type": "execute_result",
          "data": {
            "text/plain": [
              "tensor([[0.7708, 0.9792, 0.9605, 0.8715],\n",
              "        [0.7775, 0.8423, 0.1987, 0.4656],\n",
              "        [0.5599, 0.8395, 0.5117, 0.4142],\n",
              "        [0.1312, 0.8924, 0.5925, 0.9586]])"
            ]
          },
          "metadata": {},
          "execution_count": 11
        }
      ]
    },
    {
      "cell_type": "code",
      "source": [
        "rand_matrix.dtype"
      ],
      "metadata": {
        "colab": {
          "base_uri": "https://localhost:8080/"
        },
        "id": "tJ4_b1_p7SNl",
        "outputId": "6ea03b20-5b29-4c49-8b96-fa4b4795d74c"
      },
      "execution_count": null,
      "outputs": [
        {
          "output_type": "execute_result",
          "data": {
            "text/plain": [
              "torch.float32"
            ]
          },
          "metadata": {},
          "execution_count": 12
        }
      ]
    },
    {
      "cell_type": "markdown",
      "source": [
        "**zeros and ones matrix**"
      ],
      "metadata": {
        "id": "kubR0DzO8EEl"
      }
    },
    {
      "cell_type": "code",
      "source": [
        "zero_matrix = torch.zeros(size=(2,3))\n",
        "zero_matrix"
      ],
      "metadata": {
        "colab": {
          "base_uri": "https://localhost:8080/"
        },
        "id": "u_3qDTQy7Ub3",
        "outputId": "5c5b8557-bbca-4326-a0c9-a7d28921b2cc"
      },
      "execution_count": null,
      "outputs": [
        {
          "output_type": "execute_result",
          "data": {
            "text/plain": [
              "tensor([[0., 0., 0.],\n",
              "        [0., 0., 0.]])"
            ]
          },
          "metadata": {},
          "execution_count": 13
        }
      ]
    },
    {
      "cell_type": "code",
      "source": [
        "one_matrix = torch.ones(size=(2,3))\n",
        "one_matrix"
      ],
      "metadata": {
        "colab": {
          "base_uri": "https://localhost:8080/"
        },
        "id": "P7tY2mnZ8LTA",
        "outputId": "d0971efd-d5ef-46e0-9206-d5ba709df21d"
      },
      "execution_count": null,
      "outputs": [
        {
          "output_type": "execute_result",
          "data": {
            "text/plain": [
              "tensor([[1., 1., 1.],\n",
              "        [1., 1., 1.]])"
            ]
          },
          "metadata": {},
          "execution_count": 10
        }
      ]
    },
    {
      "cell_type": "code",
      "source": [
        "one_matrix.ndim"
      ],
      "metadata": {
        "colab": {
          "base_uri": "https://localhost:8080/"
        },
        "id": "GZx9UmksV_ZL",
        "outputId": "e506b212-0b97-456b-bef0-7fd7ecc1c38f"
      },
      "execution_count": null,
      "outputs": [
        {
          "output_type": "execute_result",
          "data": {
            "text/plain": [
              "2"
            ]
          },
          "metadata": {},
          "execution_count": 12
        }
      ]
    },
    {
      "cell_type": "markdown",
      "source": [
        "**arange function**"
      ],
      "metadata": {
        "id": "RM8HihLQ9Obb"
      }
    },
    {
      "cell_type": "code",
      "source": [
        "random_matrix = torch.arange(start=0,end=10,step=2)\n",
        "random_matrix"
      ],
      "metadata": {
        "colab": {
          "base_uri": "https://localhost:8080/"
        },
        "id": "0MojmNx88O-n",
        "outputId": "4dece3b6-d36c-412b-92c8-4830b1d0068f"
      },
      "execution_count": null,
      "outputs": [
        {
          "output_type": "execute_result",
          "data": {
            "text/plain": [
              "tensor([0, 2, 4, 6, 8])"
            ]
          },
          "metadata": {},
          "execution_count": 15
        }
      ]
    },
    {
      "cell_type": "code",
      "source": [
        "random_matrix.ndim"
      ],
      "metadata": {
        "colab": {
          "base_uri": "https://localhost:8080/"
        },
        "id": "3-p46d_f9Y_J",
        "outputId": "868d869a-139b-429f-b401-64fd4b50ad86"
      },
      "execution_count": null,
      "outputs": [
        {
          "output_type": "execute_result",
          "data": {
            "text/plain": [
              "1"
            ]
          },
          "metadata": {},
          "execution_count": 16
        }
      ]
    },
    {
      "cell_type": "code",
      "source": [
        "random_matrix.shape"
      ],
      "metadata": {
        "colab": {
          "base_uri": "https://localhost:8080/"
        },
        "id": "Lzz0ldcw9kPz",
        "outputId": "7179bb82-b223-44b4-c6db-9345d2dce615"
      },
      "execution_count": null,
      "outputs": [
        {
          "output_type": "execute_result",
          "data": {
            "text/plain": [
              "torch.Size([5])"
            ]
          },
          "metadata": {},
          "execution_count": 17
        }
      ]
    },
    {
      "cell_type": "markdown",
      "source": [
        "**torch datatype**"
      ],
      "metadata": {
        "id": "_HmKIVzU_Gzp"
      }
    },
    {
      "cell_type": "code",
      "source": [
        "random_data_type = torch.rand(3,4)\n",
        "random_data_type.ndim,random_data_type.shape,random_data_type.dtype,random_data_type.device"
      ],
      "metadata": {
        "colab": {
          "base_uri": "https://localhost:8080/"
        },
        "id": "kIO5bs2_9ngK",
        "outputId": "2ac73311-dc8a-46a9-dba7-304a3a1341f1"
      },
      "execution_count": null,
      "outputs": [
        {
          "output_type": "execute_result",
          "data": {
            "text/plain": [
              "(2, torch.Size([3, 4]), torch.float32, device(type='cpu'))"
            ]
          },
          "metadata": {},
          "execution_count": 18
        }
      ]
    },
    {
      "cell_type": "markdown",
      "source": [
        "**Mathematical Calculations**"
      ],
      "metadata": {
        "id": "zvVSKp5d__x9"
      }
    },
    {
      "cell_type": "code",
      "source": [
        "tensor = torch.tensor([1,2,3])\n",
        "tensor.ndim,tensor.shape,tensor.dtype"
      ],
      "metadata": {
        "colab": {
          "base_uri": "https://localhost:8080/"
        },
        "id": "KUpmrieI_fFI",
        "outputId": "69f298ff-a60a-4d70-9c9f-9e6bad535431"
      },
      "execution_count": null,
      "outputs": [
        {
          "output_type": "execute_result",
          "data": {
            "text/plain": [
              "(1, torch.Size([3]), torch.int64)"
            ]
          },
          "metadata": {},
          "execution_count": 19
        }
      ]
    },
    {
      "cell_type": "code",
      "source": [
        "tensor + 5"
      ],
      "metadata": {
        "colab": {
          "base_uri": "https://localhost:8080/"
        },
        "id": "vasqqGBrA8By",
        "outputId": "c545ef78-d397-4457-932d-4aafc0651717"
      },
      "execution_count": null,
      "outputs": [
        {
          "output_type": "execute_result",
          "data": {
            "text/plain": [
              "tensor([6, 7, 8])"
            ]
          },
          "metadata": {},
          "execution_count": 20
        }
      ]
    },
    {
      "cell_type": "code",
      "source": [
        "tensor*10"
      ],
      "metadata": {
        "colab": {
          "base_uri": "https://localhost:8080/"
        },
        "id": "wFG-qPAYBJOc",
        "outputId": "12ada4d0-f296-4809-dae3-603b463a907c"
      },
      "execution_count": null,
      "outputs": [
        {
          "output_type": "execute_result",
          "data": {
            "text/plain": [
              "tensor([10, 20, 30])"
            ]
          },
          "metadata": {},
          "execution_count": 21
        }
      ]
    },
    {
      "cell_type": "code",
      "source": [
        "torch.multiply(tensor,10)"
      ],
      "metadata": {
        "colab": {
          "base_uri": "https://localhost:8080/"
        },
        "id": "s1FL2YhgBLYX",
        "outputId": "d7a4bc6d-522f-4d59-86a5-c7af2618be23"
      },
      "execution_count": null,
      "outputs": [
        {
          "output_type": "execute_result",
          "data": {
            "text/plain": [
              "tensor([10, 20, 30])"
            ]
          },
          "metadata": {},
          "execution_count": 22
        }
      ]
    },
    {
      "cell_type": "code",
      "source": [
        "tensor*tensor"
      ],
      "metadata": {
        "colab": {
          "base_uri": "https://localhost:8080/"
        },
        "id": "c8dUt9VPBPpM",
        "outputId": "28271ef6-bd1e-4d8c-f6ba-129a8db6e518"
      },
      "execution_count": null,
      "outputs": [
        {
          "output_type": "execute_result",
          "data": {
            "text/plain": [
              "tensor([1, 4, 9])"
            ]
          },
          "metadata": {},
          "execution_count": 23
        }
      ]
    },
    {
      "cell_type": "markdown",
      "source": [
        "**Matrix Multiplication**"
      ],
      "metadata": {
        "id": "SoSLVtu-B3aV"
      }
    },
    {
      "cell_type": "code",
      "source": [
        "torch.matmul(tensor,tensor)"
      ],
      "metadata": {
        "colab": {
          "base_uri": "https://localhost:8080/"
        },
        "id": "Qs8u7UvJBRJQ",
        "outputId": "2b709c2e-fd4c-48e1-ee8f-a24c1af00321"
      },
      "execution_count": null,
      "outputs": [
        {
          "output_type": "execute_result",
          "data": {
            "text/plain": [
              "tensor(14)"
            ]
          },
          "metadata": {},
          "execution_count": 24
        }
      ]
    },
    {
      "cell_type": "code",
      "source": [
        "tensor @ tensor"
      ],
      "metadata": {
        "colab": {
          "base_uri": "https://localhost:8080/"
        },
        "id": "MhuInhseCgdP",
        "outputId": "d0797137-2016-4e00-e4b8-76779e5bd99d"
      },
      "execution_count": null,
      "outputs": [
        {
          "output_type": "execute_result",
          "data": {
            "text/plain": [
              "tensor(14)"
            ]
          },
          "metadata": {},
          "execution_count": 25
        }
      ]
    },
    {
      "cell_type": "code",
      "source": [
        "mat1 = torch.tensor([[1,2,3],\n",
        "                    [4,5,6],\n",
        "                    [7,8,9]], dtype=torch.float32)\n",
        "mat2 = torch.tensor([[1,2,3],\n",
        "                    [4,5,6],\n",
        "                    [7,8,9]], dtype=torch.float32)"
      ],
      "metadata": {
        "id": "iwJ53NCdCivF"
      },
      "execution_count": null,
      "outputs": []
    },
    {
      "cell_type": "code",
      "source": [
        "torch.matmul(mat1,mat2.T)"
      ],
      "metadata": {
        "colab": {
          "base_uri": "https://localhost:8080/"
        },
        "id": "bSg8KcknF42m",
        "outputId": "c4a25807-2899-4c0e-d456-5dbb0f4f56c9"
      },
      "execution_count": null,
      "outputs": [
        {
          "output_type": "execute_result",
          "data": {
            "text/plain": [
              "tensor([[ 14.,  32.,  50.],\n",
              "        [ 32.,  77., 122.],\n",
              "        [ 50., 122., 194.]])"
            ]
          },
          "metadata": {},
          "execution_count": 27
        }
      ]
    },
    {
      "cell_type": "markdown",
      "source": [
        "**max, min, mean, sum, argmax, argmin**"
      ],
      "metadata": {
        "id": "eT07R0NUJzbv"
      }
    },
    {
      "cell_type": "code",
      "source": [
        "num = torch.arange(0,100,10)\n",
        "num"
      ],
      "metadata": {
        "colab": {
          "base_uri": "https://localhost:8080/"
        },
        "id": "YefqG_AqGBbj",
        "outputId": "880861a8-5d35-402a-f8b7-5d083ccdf35a"
      },
      "execution_count": null,
      "outputs": [
        {
          "output_type": "execute_result",
          "data": {
            "text/plain": [
              "tensor([ 0, 10, 20, 30, 40, 50, 60, 70, 80, 90])"
            ]
          },
          "metadata": {},
          "execution_count": 28
        }
      ]
    },
    {
      "cell_type": "code",
      "source": [
        "num.max()"
      ],
      "metadata": {
        "colab": {
          "base_uri": "https://localhost:8080/"
        },
        "id": "O01pSpjtKdDc",
        "outputId": "b06e0488-e5c5-44e3-909e-ab44b8e03a75"
      },
      "execution_count": null,
      "outputs": [
        {
          "output_type": "execute_result",
          "data": {
            "text/plain": [
              "tensor(90)"
            ]
          },
          "metadata": {},
          "execution_count": 29
        }
      ]
    },
    {
      "cell_type": "code",
      "source": [
        "num.argmax()"
      ],
      "metadata": {
        "colab": {
          "base_uri": "https://localhost:8080/"
        },
        "id": "8MnKnUatKe0q",
        "outputId": "079e4596-ada5-4e95-b0ca-f81601e6c66c"
      },
      "execution_count": null,
      "outputs": [
        {
          "output_type": "execute_result",
          "data": {
            "text/plain": [
              "tensor(9)"
            ]
          },
          "metadata": {},
          "execution_count": 30
        }
      ]
    },
    {
      "cell_type": "code",
      "source": [
        "num.min() , num.argmin()"
      ],
      "metadata": {
        "colab": {
          "base_uri": "https://localhost:8080/"
        },
        "id": "5gTCunI1KgAj",
        "outputId": "bd905198-6e64-4e1b-d75f-0f07a440af75"
      },
      "execution_count": null,
      "outputs": [
        {
          "output_type": "execute_result",
          "data": {
            "text/plain": [
              "(tensor(0), tensor(0))"
            ]
          },
          "metadata": {},
          "execution_count": 31
        }
      ]
    },
    {
      "cell_type": "code",
      "source": [
        "num.sum()"
      ],
      "metadata": {
        "colab": {
          "base_uri": "https://localhost:8080/"
        },
        "id": "cRZGDhbKKi0v",
        "outputId": "41e6cf54-1598-4890-b303-be469e1b0189"
      },
      "execution_count": null,
      "outputs": [
        {
          "output_type": "execute_result",
          "data": {
            "text/plain": [
              "tensor(450)"
            ]
          },
          "metadata": {},
          "execution_count": 32
        }
      ]
    },
    {
      "cell_type": "code",
      "source": [
        "num.type(torch.float32).sum()"
      ],
      "metadata": {
        "colab": {
          "base_uri": "https://localhost:8080/"
        },
        "id": "mQWobisAKkYi",
        "outputId": "9ae8fddc-cf53-40a8-ecea-083f7075dd5d"
      },
      "execution_count": null,
      "outputs": [
        {
          "output_type": "execute_result",
          "data": {
            "text/plain": [
              "tensor(450.)"
            ]
          },
          "metadata": {},
          "execution_count": 33
        }
      ]
    },
    {
      "cell_type": "markdown",
      "source": [
        "**Reshaping , Viewing, Stacking, Squeezing, Unsqueezing**"
      ],
      "metadata": {
        "id": "xIcD1gp3Kv4A"
      }
    },
    {
      "cell_type": "code",
      "source": [
        "num.shape"
      ],
      "metadata": {
        "id": "XZSVgPbZKlbs",
        "colab": {
          "base_uri": "https://localhost:8080/"
        },
        "outputId": "9db7667f-e575-43a4-b6a2-c4d5c9bcb4f9"
      },
      "execution_count": null,
      "outputs": [
        {
          "output_type": "execute_result",
          "data": {
            "text/plain": [
              "torch.Size([10])"
            ]
          },
          "metadata": {},
          "execution_count": 34
        }
      ]
    },
    {
      "cell_type": "code",
      "source": [
        "num.reshape(1,10)"
      ],
      "metadata": {
        "colab": {
          "base_uri": "https://localhost:8080/"
        },
        "id": "nuoPKHV5DUfz",
        "outputId": "257ef4f0-647c-41d7-8888-7cc32f7fc5e2"
      },
      "execution_count": null,
      "outputs": [
        {
          "output_type": "execute_result",
          "data": {
            "text/plain": [
              "tensor([[ 0, 10, 20, 30, 40, 50, 60, 70, 80, 90]])"
            ]
          },
          "metadata": {},
          "execution_count": 35
        }
      ]
    },
    {
      "cell_type": "code",
      "source": [
        "num.squeeze()"
      ],
      "metadata": {
        "colab": {
          "base_uri": "https://localhost:8080/"
        },
        "id": "xGoGt911DW1I",
        "outputId": "9998e468-a910-47bf-bbbb-d15a9e4f96ad"
      },
      "execution_count": null,
      "outputs": [
        {
          "output_type": "execute_result",
          "data": {
            "text/plain": [
              "tensor([ 0, 10, 20, 30, 40, 50, 60, 70, 80, 90])"
            ]
          },
          "metadata": {},
          "execution_count": 36
        }
      ]
    },
    {
      "cell_type": "code",
      "source": [
        "num.unsqueeze(dim=0)"
      ],
      "metadata": {
        "colab": {
          "base_uri": "https://localhost:8080/"
        },
        "id": "ANV_MMBqDa5N",
        "outputId": "91bd2f9d-69a1-42c3-c369-8d621c0589c8"
      },
      "execution_count": null,
      "outputs": [
        {
          "output_type": "execute_result",
          "data": {
            "text/plain": [
              "tensor([[ 0, 10, 20, 30, 40, 50, 60, 70, 80, 90]])"
            ]
          },
          "metadata": {},
          "execution_count": 38
        }
      ]
    },
    {
      "cell_type": "code",
      "source": [
        "num"
      ],
      "metadata": {
        "colab": {
          "base_uri": "https://localhost:8080/"
        },
        "id": "IActvVD9Dcbr",
        "outputId": "4847f7bc-0cf4-43ea-f385-9f0cc72a3e7c"
      },
      "execution_count": null,
      "outputs": [
        {
          "output_type": "execute_result",
          "data": {
            "text/plain": [
              "tensor([ 0, 10, 20, 30, 40, 50, 60, 70, 80, 90])"
            ]
          },
          "metadata": {},
          "execution_count": 39
        }
      ]
    },
    {
      "cell_type": "code",
      "source": [
        "num_temp = num.view(1,10)\n",
        "num_temp"
      ],
      "metadata": {
        "colab": {
          "base_uri": "https://localhost:8080/"
        },
        "id": "ccHfO9QaENLV",
        "outputId": "7ba199dc-0aff-446b-a727-acb37727bd20"
      },
      "execution_count": null,
      "outputs": [
        {
          "output_type": "execute_result",
          "data": {
            "text/plain": [
              "tensor([[ 0, 10, 20, 30, 40, 50, 60, 70, 80, 90]])"
            ]
          },
          "metadata": {},
          "execution_count": 40
        }
      ]
    },
    {
      "cell_type": "code",
      "source": [
        "num_temp[:,0]=1"
      ],
      "metadata": {
        "id": "qKI-DPGrERXY"
      },
      "execution_count": null,
      "outputs": []
    },
    {
      "cell_type": "code",
      "source": [
        "num_temp,num"
      ],
      "metadata": {
        "colab": {
          "base_uri": "https://localhost:8080/"
        },
        "id": "-VX2DKTOEbZl",
        "outputId": "a2f8818c-d861-4f27-8fe2-fdae82df4a59"
      },
      "execution_count": null,
      "outputs": [
        {
          "output_type": "execute_result",
          "data": {
            "text/plain": [
              "(tensor([[ 1, 10, 20, 30, 40, 50, 60, 70, 80, 90]]),\n",
              " tensor([ 1, 10, 20, 30, 40, 50, 60, 70, 80, 90]))"
            ]
          },
          "metadata": {},
          "execution_count": 43
        }
      ]
    },
    {
      "cell_type": "code",
      "source": [
        "num_stack = torch.stack([num,num,num],dim=-2)\n",
        "num_stack"
      ],
      "metadata": {
        "colab": {
          "base_uri": "https://localhost:8080/"
        },
        "id": "Acu0uk-8ESPz",
        "outputId": "f06c8729-3ed1-455e-c489-39a1c3d51a92"
      },
      "execution_count": null,
      "outputs": [
        {
          "output_type": "execute_result",
          "data": {
            "text/plain": [
              "tensor([[ 1, 10, 20, 30, 40, 50, 60, 70, 80, 90],\n",
              "        [ 1, 10, 20, 30, 40, 50, 60, 70, 80, 90],\n",
              "        [ 1, 10, 20, 30, 40, 50, 60, 70, 80, 90]])"
            ]
          },
          "metadata": {},
          "execution_count": 49
        }
      ]
    },
    {
      "cell_type": "markdown",
      "source": [
        "**Indexing**"
      ],
      "metadata": {
        "id": "MI0t2WD-FAck"
      }
    },
    {
      "cell_type": "code",
      "source": [
        "matrix = torch.arange(0,100,10).reshape(1,5,2)"
      ],
      "metadata": {
        "id": "f71ZuAnDEyU-"
      },
      "execution_count": null,
      "outputs": []
    },
    {
      "cell_type": "code",
      "source": [
        "matrix"
      ],
      "metadata": {
        "colab": {
          "base_uri": "https://localhost:8080/"
        },
        "id": "QbLj5yPVFTPG",
        "outputId": "981837f0-7027-4a35-aa4c-646a7f4a778e"
      },
      "execution_count": null,
      "outputs": [
        {
          "output_type": "execute_result",
          "data": {
            "text/plain": [
              "tensor([[[ 0, 10],\n",
              "         [20, 30],\n",
              "         [40, 50],\n",
              "         [60, 70],\n",
              "         [80, 90]]])"
            ]
          },
          "metadata": {},
          "execution_count": 57
        }
      ]
    },
    {
      "cell_type": "code",
      "source": [
        "matrix[0]"
      ],
      "metadata": {
        "colab": {
          "base_uri": "https://localhost:8080/"
        },
        "id": "4sGm3YQ-FdJN",
        "outputId": "92b35927-007a-4269-e06d-bf802adb4813"
      },
      "execution_count": null,
      "outputs": [
        {
          "output_type": "execute_result",
          "data": {
            "text/plain": [
              "tensor([[ 0, 10],\n",
              "        [20, 30],\n",
              "        [40, 50],\n",
              "        [60, 70],\n",
              "        [80, 90]])"
            ]
          },
          "metadata": {},
          "execution_count": 58
        }
      ]
    },
    {
      "cell_type": "code",
      "source": [
        "matrix[0][0]"
      ],
      "metadata": {
        "colab": {
          "base_uri": "https://localhost:8080/"
        },
        "id": "OMrLl5i3Fir6",
        "outputId": "68ff72cf-b7e7-43ba-e94c-c4c2017a81be"
      },
      "execution_count": null,
      "outputs": [
        {
          "output_type": "execute_result",
          "data": {
            "text/plain": [
              "tensor([ 0, 10])"
            ]
          },
          "metadata": {},
          "execution_count": 59
        }
      ]
    },
    {
      "cell_type": "code",
      "source": [
        "matrix[0][0][0]"
      ],
      "metadata": {
        "id": "d4wVO87SB1jo",
        "colab": {
          "base_uri": "https://localhost:8080/"
        },
        "outputId": "76551530-2909-4ed8-c344-74c29f807f18"
      },
      "execution_count": null,
      "outputs": [
        {
          "output_type": "execute_result",
          "data": {
            "text/plain": [
              "tensor(0)"
            ]
          },
          "metadata": {},
          "execution_count": 60
        }
      ]
    },
    {
      "cell_type": "code",
      "source": [
        "matrix[:,0,0]"
      ],
      "metadata": {
        "colab": {
          "base_uri": "https://localhost:8080/"
        },
        "id": "2WvwxWJfFrB3",
        "outputId": "4589e799-804e-4855-b2f1-1b4a03648d9d"
      },
      "execution_count": null,
      "outputs": [
        {
          "output_type": "execute_result",
          "data": {
            "text/plain": [
              "tensor([0])"
            ]
          },
          "metadata": {},
          "execution_count": 64
        }
      ]
    },
    {
      "cell_type": "markdown",
      "source": [
        "**Pytorch and Numpy**"
      ],
      "metadata": {
        "id": "uuUjersLGmLD"
      }
    },
    {
      "cell_type": "code",
      "source": [
        "num_arr = np.arange(1.0,10.0)\n",
        "num_arr"
      ],
      "metadata": {
        "colab": {
          "base_uri": "https://localhost:8080/"
        },
        "id": "I6gXulFTFtPs",
        "outputId": "3f722ef6-07b3-4dbd-fa39-91e3ec060f05"
      },
      "execution_count": null,
      "outputs": [
        {
          "output_type": "execute_result",
          "data": {
            "text/plain": [
              "array([1., 2., 3., 4., 5., 6., 7., 8., 9.])"
            ]
          },
          "metadata": {},
          "execution_count": 65
        }
      ]
    },
    {
      "cell_type": "code",
      "source": [
        "tensor_arr = torch.from_numpy(num_arr)\n",
        "tensor_arr"
      ],
      "metadata": {
        "colab": {
          "base_uri": "https://localhost:8080/"
        },
        "id": "R00RkidLIEXW",
        "outputId": "7987df8d-7295-4430-9e9b-13caf8717c8e"
      },
      "execution_count": null,
      "outputs": [
        {
          "output_type": "execute_result",
          "data": {
            "text/plain": [
              "tensor([1., 2., 3., 4., 5., 6., 7., 8., 9.], dtype=torch.float64)"
            ]
          },
          "metadata": {},
          "execution_count": 66
        }
      ]
    },
    {
      "cell_type": "code",
      "source": [
        "tensor_arr.type(torch.float32)"
      ],
      "metadata": {
        "colab": {
          "base_uri": "https://localhost:8080/"
        },
        "id": "Pnwc9344IKXS",
        "outputId": "5734b6c7-fe4a-4a96-988a-0878529b4a6c"
      },
      "execution_count": null,
      "outputs": [
        {
          "output_type": "execute_result",
          "data": {
            "text/plain": [
              "tensor([1., 2., 3., 4., 5., 6., 7., 8., 9.])"
            ]
          },
          "metadata": {},
          "execution_count": 67
        }
      ]
    },
    {
      "cell_type": "code",
      "source": [
        "tensor_arr.dtype"
      ],
      "metadata": {
        "colab": {
          "base_uri": "https://localhost:8080/"
        },
        "id": "aEkgOhXhIN_P",
        "outputId": "dd911648-c4bc-44ca-9afe-e7165adb0d88"
      },
      "execution_count": null,
      "outputs": [
        {
          "output_type": "execute_result",
          "data": {
            "text/plain": [
              "torch.float64"
            ]
          },
          "metadata": {},
          "execution_count": 68
        }
      ]
    },
    {
      "cell_type": "code",
      "source": [
        "# to convert back to numpy from tensor\n",
        "tensor_ones = torch.ones(10)\n",
        "tensor_numpy = tensor_ones.numpy()\n",
        "tensor_ones,tensor_numpy"
      ],
      "metadata": {
        "colab": {
          "base_uri": "https://localhost:8080/"
        },
        "id": "qHM-WxJIIQuT",
        "outputId": "a94ee547-4c02-4998-fc44-c93799bf66b3"
      },
      "execution_count": null,
      "outputs": [
        {
          "output_type": "execute_result",
          "data": {
            "text/plain": [
              "(tensor([1., 1., 1., 1., 1., 1., 1., 1., 1., 1.]),\n",
              " array([1., 1., 1., 1., 1., 1., 1., 1., 1., 1.], dtype=float32))"
            ]
          },
          "metadata": {},
          "execution_count": 69
        }
      ]
    },
    {
      "cell_type": "markdown",
      "source": [
        "**Seed**"
      ],
      "metadata": {
        "id": "Kp37pBi_M6In"
      }
    },
    {
      "cell_type": "code",
      "source": [
        "torch.manual_seed(42)\n",
        "rand1 = torch.rand(3,4)\n",
        "rand2 = torch.rand(3,4)\n",
        "\n",
        "rand1,rand2"
      ],
      "metadata": {
        "colab": {
          "base_uri": "https://localhost:8080/"
        },
        "id": "9msqPjrMIhDA",
        "outputId": "8fae9e9e-9d2b-4f84-8547-e6ec1af64953"
      },
      "execution_count": null,
      "outputs": [
        {
          "output_type": "execute_result",
          "data": {
            "text/plain": [
              "(tensor([[0.8823, 0.9150, 0.3829, 0.9593],\n",
              "         [0.3904, 0.6009, 0.2566, 0.7936],\n",
              "         [0.9408, 0.1332, 0.9346, 0.5936]]),\n",
              " tensor([[0.8694, 0.5677, 0.7411, 0.4294],\n",
              "         [0.8854, 0.5739, 0.2666, 0.6274],\n",
              "         [0.2696, 0.4414, 0.2969, 0.8317]]))"
            ]
          },
          "metadata": {},
          "execution_count": 73
        }
      ]
    },
    {
      "cell_type": "code",
      "source": [
        "rand1==rand2    #single assigning of seed will not have equal random_variables"
      ],
      "metadata": {
        "colab": {
          "base_uri": "https://localhost:8080/"
        },
        "id": "pZCgygw_NFnX",
        "outputId": "cfd60d07-767c-4635-9399-af7fb9b3607e"
      },
      "execution_count": null,
      "outputs": [
        {
          "output_type": "execute_result",
          "data": {
            "text/plain": [
              "tensor([[False, False, False, False],\n",
              "        [False, False, False, False],\n",
              "        [False, False, False, False]])"
            ]
          },
          "metadata": {},
          "execution_count": 71
        }
      ]
    },
    {
      "cell_type": "code",
      "source": [
        "#assigning different seed to different variables\n",
        "torch.manual_seed(42)\n",
        "rand1 = torch.rand(3,4)\n",
        "\n",
        "torch.manual_seed(42)\n",
        "rand2 = torch.rand(3,4)\n",
        "\n",
        "rand1,rand2"
      ],
      "metadata": {
        "colab": {
          "base_uri": "https://localhost:8080/"
        },
        "id": "dnTxXLDfNIb5",
        "outputId": "bdd8c2e5-b1df-4627-c453-2b3acef9b555"
      },
      "execution_count": null,
      "outputs": [
        {
          "output_type": "execute_result",
          "data": {
            "text/plain": [
              "(tensor([[0.8823, 0.9150, 0.3829, 0.9593],\n",
              "         [0.3904, 0.6009, 0.2566, 0.7936],\n",
              "         [0.9408, 0.1332, 0.9346, 0.5936]]),\n",
              " tensor([[0.8823, 0.9150, 0.3829, 0.9593],\n",
              "         [0.3904, 0.6009, 0.2566, 0.7936],\n",
              "         [0.9408, 0.1332, 0.9346, 0.5936]]))"
            ]
          },
          "metadata": {},
          "execution_count": 74
        }
      ]
    },
    {
      "cell_type": "code",
      "source": [
        "rand1==rand2"
      ],
      "metadata": {
        "colab": {
          "base_uri": "https://localhost:8080/"
        },
        "id": "y3605AJsNpV7",
        "outputId": "1108005f-cdb1-4ff4-f1fa-08eee00cd95a"
      },
      "execution_count": null,
      "outputs": [
        {
          "output_type": "execute_result",
          "data": {
            "text/plain": [
              "tensor([[True, True, True, True],\n",
              "        [True, True, True, True],\n",
              "        [True, True, True, True]])"
            ]
          },
          "metadata": {},
          "execution_count": 75
        }
      ]
    },
    {
      "cell_type": "markdown",
      "source": [
        "**Accessing GPU**"
      ],
      "metadata": {
        "id": "OR1G68cHOSA1"
      }
    },
    {
      "cell_type": "code",
      "source": [
        "#Using google colab follow the steps to change runtime to GPU:\n",
        "'''\n",
        "Clikc on runtime -> Change the runtime -> click free GPU access -> save\n",
        "'''"
      ],
      "metadata": {
        "id": "r-QRZNltNrQz"
      },
      "execution_count": null,
      "outputs": []
    },
    {
      "cell_type": "code",
      "source": [
        "!nvidia-smi"
      ],
      "metadata": {
        "colab": {
          "base_uri": "https://localhost:8080/"
        },
        "id": "s1iupgeiOeHH",
        "outputId": "3aefa6b2-d7fc-40eb-abad-a0aba1eeb2f6"
      },
      "execution_count": null,
      "outputs": [
        {
          "output_type": "stream",
          "name": "stdout",
          "text": [
            "Mon Mar 31 08:04:39 2025       \n",
            "+-----------------------------------------------------------------------------------------+\n",
            "| NVIDIA-SMI 550.54.15              Driver Version: 550.54.15      CUDA Version: 12.4     |\n",
            "|-----------------------------------------+------------------------+----------------------+\n",
            "| GPU  Name                 Persistence-M | Bus-Id          Disp.A | Volatile Uncorr. ECC |\n",
            "| Fan  Temp   Perf          Pwr:Usage/Cap |           Memory-Usage | GPU-Util  Compute M. |\n",
            "|                                         |                        |               MIG M. |\n",
            "|=========================================+========================+======================|\n",
            "|   0  Tesla T4                       Off |   00000000:00:04.0 Off |                    0 |\n",
            "| N/A   54C    P8             10W /   70W |       0MiB /  15360MiB |      0%      Default |\n",
            "|                                         |                        |                  N/A |\n",
            "+-----------------------------------------+------------------------+----------------------+\n",
            "                                                                                         \n",
            "+-----------------------------------------------------------------------------------------+\n",
            "| Processes:                                                                              |\n",
            "|  GPU   GI   CI        PID   Type   Process name                              GPU Memory |\n",
            "|        ID   ID                                                               Usage      |\n",
            "|=========================================================================================|\n",
            "|  No running processes found                                                             |\n",
            "+-----------------------------------------------------------------------------------------+\n"
          ]
        }
      ]
    },
    {
      "cell_type": "code",
      "source": [
        "import torch\n",
        "import numpy as np"
      ],
      "metadata": {
        "id": "_THaEsx_Qodl"
      },
      "execution_count": null,
      "outputs": []
    },
    {
      "cell_type": "code",
      "source": [
        "is_available = \"cuda\" if torch.cuda.is_available() else \"cpu\"\n",
        "is_available"
      ],
      "metadata": {
        "colab": {
          "base_uri": "https://localhost:8080/",
          "height": 35
        },
        "id": "Podu8P4COuQk",
        "outputId": "d11b960d-6842-4af6-99bb-98ca79f43ae5"
      },
      "execution_count": null,
      "outputs": [
        {
          "output_type": "execute_result",
          "data": {
            "text/plain": [
              "'cuda'"
            ],
            "application/vnd.google.colaboratory.intrinsic+json": {
              "type": "string"
            }
          },
          "metadata": {},
          "execution_count": 6
        }
      ]
    },
    {
      "cell_type": "code",
      "source": [
        "torch.cuda.device_count()"
      ],
      "metadata": {
        "colab": {
          "base_uri": "https://localhost:8080/"
        },
        "id": "MZzkpewaQmA6",
        "outputId": "afb0fffe-6e00-4533-db8a-3d46fa32b0f7"
      },
      "execution_count": null,
      "outputs": [
        {
          "output_type": "execute_result",
          "data": {
            "text/plain": [
              "1"
            ]
          },
          "metadata": {},
          "execution_count": 7
        }
      ]
    },
    {
      "cell_type": "code",
      "source": [
        "tensor = torch.rand(3,4)\n",
        "tensor_gpu = tensor.to(is_available)\n",
        "tensor_gpu"
      ],
      "metadata": {
        "colab": {
          "base_uri": "https://localhost:8080/"
        },
        "id": "0DJLJoXwQwdx",
        "outputId": "4b7b350e-b377-497b-c7f2-fec52d276bfa"
      },
      "execution_count": null,
      "outputs": [
        {
          "output_type": "execute_result",
          "data": {
            "text/plain": [
              "tensor([[0.0343, 0.2532, 0.8260, 0.4588],\n",
              "        [0.7275, 0.9499, 0.3487, 0.1988],\n",
              "        [0.3959, 0.8481, 0.4836, 0.9127]], device='cuda:0')"
            ]
          },
          "metadata": {},
          "execution_count": 8
        }
      ]
    },
    {
      "cell_type": "code",
      "source": [
        "tensor_gpu.dtype"
      ],
      "metadata": {
        "colab": {
          "base_uri": "https://localhost:8080/"
        },
        "id": "aUqEvaunSdz0",
        "outputId": "18bc34e0-cc05-46c9-899e-b7e3de6d97c6"
      },
      "execution_count": null,
      "outputs": [
        {
          "output_type": "execute_result",
          "data": {
            "text/plain": [
              "torch.float32"
            ]
          },
          "metadata": {},
          "execution_count": 9
        }
      ]
    },
    {
      "cell_type": "code",
      "source": [
        "nump_arr = np.arange(1.0,9.0)\n",
        "nump_arr"
      ],
      "metadata": {
        "colab": {
          "base_uri": "https://localhost:8080/"
        },
        "id": "7gF7kn99Shb4",
        "outputId": "44520412-c71d-401b-9e06-3263c425d6a8"
      },
      "execution_count": null,
      "outputs": [
        {
          "output_type": "execute_result",
          "data": {
            "text/plain": [
              "array([1., 2., 3., 4., 5., 6., 7., 8.])"
            ]
          },
          "metadata": {},
          "execution_count": 11
        }
      ]
    },
    {
      "cell_type": "code",
      "source": [
        "tensor_numpy = torch.from_numpy(nump_arr)\n",
        "tensor_numpy"
      ],
      "metadata": {
        "colab": {
          "base_uri": "https://localhost:8080/"
        },
        "id": "YHpWLoMLTctJ",
        "outputId": "2f5c5293-b4d0-481a-9394-603573427d91"
      },
      "execution_count": null,
      "outputs": [
        {
          "output_type": "execute_result",
          "data": {
            "text/plain": [
              "tensor([1., 2., 3., 4., 5., 6., 7., 8.], dtype=torch.float64)"
            ]
          },
          "metadata": {},
          "execution_count": 12
        }
      ]
    },
    {
      "cell_type": "code",
      "source": [
        "tensor_numpy_gpu = tensor_numpy.to(is_available)\n",
        "tensor_numpy_gpu"
      ],
      "metadata": {
        "colab": {
          "base_uri": "https://localhost:8080/"
        },
        "id": "EWFasN47Tl3H",
        "outputId": "9d0a2827-d830-4259-d9cc-900b1af515be"
      },
      "execution_count": null,
      "outputs": [
        {
          "output_type": "execute_result",
          "data": {
            "text/plain": [
              "tensor([1., 2., 3., 4., 5., 6., 7., 8.], device='cuda:0', dtype=torch.float64)"
            ]
          },
          "metadata": {},
          "execution_count": 13
        }
      ]
    },
    {
      "cell_type": "code",
      "source": [
        "# tensor_numpy_gpu.numpy() -> cannot convert to numpy again on gpu"
      ],
      "metadata": {
        "id": "ljkJPhO-TsJs"
      },
      "execution_count": null,
      "outputs": []
    },
    {
      "cell_type": "code",
      "source": [],
      "metadata": {
        "id": "3iPrRc3AT-G4"
      },
      "execution_count": null,
      "outputs": []
    }
  ]
}